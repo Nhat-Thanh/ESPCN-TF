{
  "nbformat": 4,
  "nbformat_minor": 0,
  "metadata": {
    "colab": {
      "name": "ESPCN.ipynb",
      "provenance": [],
      "collapsed_sections": [],
      "authorship_tag": "ABX9TyMno5iuWkuQ/X51Udgl3LTR",
      "include_colab_link": true
    },
    "kernelspec": {
      "name": "python3",
      "display_name": "Python 3"
    },
    "language_info": {
      "name": "python"
    },
    "accelerator": "GPU"
  },
  "cells": [
    {
      "cell_type": "markdown",
      "metadata": {
        "id": "view-in-github",
        "colab_type": "text"
      },
      "source": [
        "<a href=\"https://colab.research.google.com/github/Nhat-Thanh/ESPCN-TF/blob/main/ESPCN-TF.ipynb\" target=\"_parent\"><img src=\"https://colab.research.google.com/assets/colab-badge.svg\" alt=\"Open In Colab\"/></a>"
      ]
    },
    {
      "cell_type": "markdown",
      "metadata": {
        "id": "BSIOX9FkHia1"
      },
      "source": [
        "# **Mount drive**"
      ]
    },
    {
      "cell_type": "code",
      "source": [
        "from google.colab import drive\n",
        "drive.mount('/content/drive')"
      ],
      "metadata": {
        "id": "kGW-_MQ5qf-i"
      },
      "execution_count": null,
      "outputs": []
    },
    {
      "cell_type": "markdown",
      "metadata": {
        "id": "0qFuIBWYtEA-"
      },
      "source": [
        "# **Train**"
      ]
    },
    {
      "cell_type": "code",
      "execution_count": null,
      "metadata": {
        "id": "LcU9BP0LoZ6y"
      },
      "outputs": [],
      "source": [
        "!git clone https://github.com/Nhat-Thanh/ESPCN-TF.git"
      ]
    },
    {
      "cell_type": "code",
      "execution_count": null,
      "metadata": {
        "id": "aCxs66QIs9JU"
      },
      "outputs": [],
      "source": [
        "%cd /content/ESPCN-TF/"
      ]
    },
    {
      "cell_type": "code",
      "execution_count": null,
      "metadata": {
        "id": "bcFmW-Z2xpt8"
      },
      "outputs": [],
      "source": [
        "!git pull"
      ]
    },
    {
      "cell_type": "code",
      "source": [
        "# Train with scale x2\n",
        "!rm -rf dataset/*.npy\n",
        "!python train.py  --steps=300000              \\\n",
        "                  --scale=2                   \\\n",
        "                  --batch_size=128            \\\n",
        "                  --save-best-only=0          \\\n",
        "                  --save-every=1000           \\\n",
        "                  --ckpt-dir=\"checkpoint/x2\"  "
      ],
      "metadata": {
        "id": "NNnil1fwpvPQ"
      },
      "execution_count": null,
      "outputs": []
    },
    {
      "cell_type": "code",
      "source": [
        "# Train with scale x3\n",
        "# !rm -rf dataset/*.npy\n",
        "!python train.py  --steps=300000              \\\n",
        "                  --scale=3                   \\\n",
        "                  --batch_size=128            \\\n",
        "                  --save-best-only=0          \\\n",
        "                  --save-every=1000           \\\n",
        "                  --ckpt-dir=\"checkpoint/x3\"  "
      ],
      "metadata": {
        "id": "8IamtstajgzB"
      },
      "execution_count": null,
      "outputs": []
    },
    {
      "cell_type": "code",
      "source": [
        "# Train with scale x4\n",
        "# !rm -rf dataset/*.npy\n",
        "!python train.py  --steps=300000              \\\n",
        "                  --scale=4                   \\\n",
        "                  --batch_size=128            \\\n",
        "                  --save-best-only=0          \\\n",
        "                  --save-every=1000           \\\n",
        "                  --ckpt-dir=\"checkpoint/x4\"  "
      ],
      "metadata": {
        "id": "wJAhH_XVIr9m"
      },
      "execution_count": null,
      "outputs": []
    },
    {
      "cell_type": "markdown",
      "source": [
        "#**Demo**"
      ],
      "metadata": {
        "id": "HNMxCqEnIm5B"
      }
    },
    {
      "cell_type": "code",
      "execution_count": null,
      "metadata": {
        "id": "6LEod8iiyE2t"
      },
      "outputs": [],
      "source": [
        "!python demo.py --image-path=\"dataset/test2.png\"        \\\n",
        "                --ckpt-path=\"checkpoint/x4/ESPCN-x4.h5\" \\\n",
        "                --scale=4"
      ]
    },
    {
      "cell_type": "markdown",
      "source": [
        "# **Dataset files**"
      ],
      "metadata": {
        "id": "mXR3GIR_RumX"
      }
    },
    {
      "cell_type": "code",
      "source": [
        "%%writefile dataset-files.sh\n",
        "\n",
        "OPTION=$1\n",
        "DATASET_DIR=\"/content/ESPCN-TF/dataset\"\n",
        "DRIVE_DIR=\"/content/drive/MyDrive/ESPCN\"\n",
        "SUBSETS=(\"train\" \"validation\" \"test\")\n",
        "TYPE=(\"data\" \"labels\")\n",
        "\n",
        "mkdir -p ${DRIVE_DIR}\n",
        "for type in ${TYPE[*]}; do\n",
        "    for subset in ${SUBSETS[*]}; do\n",
        "        # copy all generated dataset files to your drive\n",
        "        if [ \"$OPTION\" == \"copy to drive\" ]; then\n",
        "            cp -vf ${DATASET_DIR}/${type}_${subset}.npy ${DRIVE_DIR}\n",
        "\n",
        "        # copy all saved dataset files from your drive to dataset directory\n",
        "        elif [ \"$OPTION\" == \"copy from drive\" ]; then\n",
        "            cp -vf ${DRIVE_DIR}/${type}_${subset}.npy   ${DATASET_DIR}\n",
        "        \n",
        "        # delete all generated dataset files in dataset directory\n",
        "        elif [ \"${OPTION}\" == \"remove\" ]; then\n",
        "            rm -vf ${DATASET_DIR}/${type}_${subset}.npy\n",
        "        fi\n",
        "    done\n",
        "done"
      ],
      "metadata": {
        "id": "Y5PICMo-ThER"
      },
      "execution_count": null,
      "outputs": []
    },
    {
      "cell_type": "code",
      "source": [
        "# !bash dataset-files.sh \"copy to drive\"\n",
        "# !bash dataset-files.sh \"copy from drive\"\n",
        "# !bash dataset-files.sh \"remove\""
      ],
      "metadata": {
        "id": "1n2cLVMYUDx3"
      },
      "execution_count": null,
      "outputs": []
    },
    {
      "cell_type": "markdown",
      "source": [
        "# **Checkpoint**"
      ],
      "metadata": {
        "id": "APDYH1_F6Rum"
      }
    },
    {
      "cell_type": "code",
      "source": [
        "%%writefile ckpt.sh\n",
        "OPTION=$1\n",
        "\n",
        "DRIVE_DIR=\"/content/drive/MyDrive/ESPCN\"\n",
        "SRC=\"/content/ESPCN-TF/checkpoint\"\n",
        "DES=\"${DRIVE_DIR}/checkpoint\"\n",
        "SUBSETS=(\"x2\" \"x3\" \"x4\")\n",
        "\n",
        "mkdir -p ${DRIVE_DIR}\n",
        "for subset in ${SUBSETS[*]}; do\n",
        "    # remove all checkpoint files in sub-directories in checkpoint directory\n",
        "    if [ \"${OPTION}\" == \"remove\" ]; then\n",
        "        rm -vrf ${SRC}/${subset}\n",
        "        mkdir -p ${SRC}/${subset}\n",
        "\n",
        "    # copy all checkpoint directories to your drive\n",
        "    elif [ \"${OPTION}\" == \"copy to drive\" ]; then\n",
        "        mkdir -p ${DES}\n",
        "        mkdir -p ${DES}/${subset}\n",
        "        cp -vrf ${SRC}/${subset}/. ${DES}/${subset}\n",
        "\n",
        "    # copy all saved checkpoint files from your drive to checkpoint directory\n",
        "    elif [ \"${OPTION}\" == \"copy from drive\" ]; then\n",
        "        mkdir -p ${SRC}\n",
        "        mkdir -p ${SRC}/${subset}\n",
        "        cp -vrf ${DES}/${subset}/. ${SRC}/${subset}\n",
        "    fi\n",
        "\n",
        "done"
      ],
      "metadata": {
        "id": "UJu5zeBgtdDL"
      },
      "execution_count": null,
      "outputs": []
    },
    {
      "cell_type": "code",
      "source": [
        "# !bash ckpt.sh \"copy from drive\"\n",
        "# !bash ckpt.sh \"copy to drive\"\n",
        "# !bash ckpt.sh \"remove\""
      ],
      "metadata": {
        "id": "K3r9vXdj2pE3"
      },
      "execution_count": null,
      "outputs": []
    }
  ]
}